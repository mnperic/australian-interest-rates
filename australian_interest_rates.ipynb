{
 "cells": [
  {
   "cell_type": "code",
   "execution_count": 8,
   "id": "d813df73",
   "metadata": {},
   "outputs": [],
   "source": [
    "# Import dependencies and setup\n",
    "\n",
    "import pandas as pd\n",
    "import matplotlib.pyplot as plt\n",
    "import matplotlib as matplotlib"
   ]
  },
  {
   "cell_type": "code",
   "execution_count": 11,
   "id": "012850fd",
   "metadata": {},
   "outputs": [
    {
     "data": {
      "text/html": [
       "<div>\n",
       "<style scoped>\n",
       "    .dataframe tbody tr th:only-of-type {\n",
       "        vertical-align: middle;\n",
       "    }\n",
       "\n",
       "    .dataframe tbody tr th {\n",
       "        vertical-align: top;\n",
       "    }\n",
       "\n",
       "    .dataframe thead th {\n",
       "        text-align: right;\n",
       "    }\n",
       "</style>\n",
       "<table border=\"1\" class=\"dataframe\">\n",
       "  <thead>\n",
       "    <tr style=\"text-align: right;\">\n",
       "      <th></th>\n",
       "      <th>date</th>\n",
       "      <th>cash_rate_target</th>\n",
       "      <th>interbank_overnight_cash_rate</th>\n",
       "      <th>six_month_bab_ncd</th>\n",
       "    </tr>\n",
       "  </thead>\n",
       "  <tbody>\n",
       "    <tr>\n",
       "      <th>0</th>\n",
       "      <td>Aug-90</td>\n",
       "      <td>14.00</td>\n",
       "      <td>14.07</td>\n",
       "      <td>13.92</td>\n",
       "    </tr>\n",
       "    <tr>\n",
       "      <th>1</th>\n",
       "      <td>Sep-90</td>\n",
       "      <td>14.00</td>\n",
       "      <td>14.05</td>\n",
       "      <td>13.52</td>\n",
       "    </tr>\n",
       "    <tr>\n",
       "      <th>2</th>\n",
       "      <td>Oct-90</td>\n",
       "      <td>13.43</td>\n",
       "      <td>13.47</td>\n",
       "      <td>13.07</td>\n",
       "    </tr>\n",
       "    <tr>\n",
       "      <th>3</th>\n",
       "      <td>Nov-90</td>\n",
       "      <td>13.00</td>\n",
       "      <td>13.05</td>\n",
       "      <td>12.41</td>\n",
       "    </tr>\n",
       "    <tr>\n",
       "      <th>4</th>\n",
       "      <td>Dec-90</td>\n",
       "      <td>12.58</td>\n",
       "      <td>12.68</td>\n",
       "      <td>12.19</td>\n",
       "    </tr>\n",
       "  </tbody>\n",
       "</table>\n",
       "</div>"
      ],
      "text/plain": [
       "     date  cash_rate_target  interbank_overnight_cash_rate  six_month_bab_ncd\n",
       "0  Aug-90             14.00                          14.07              13.92\n",
       "1  Sep-90             14.00                          14.05              13.52\n",
       "2  Oct-90             13.43                          13.47              13.07\n",
       "3  Nov-90             13.00                          13.05              12.41\n",
       "4  Dec-90             12.58                          12.68              12.19"
      ]
     },
     "execution_count": 11,
     "metadata": {},
     "output_type": "execute_result"
    }
   ],
   "source": [
    "# Import .csv and store as DataFrame\n",
    "\n",
    "interest_rates_file_path = \"Resources/interest_rates_cleaned.csv\"\n",
    "interest_rates_df = pd.read_csv(interest_rates_file_path)\n",
    "interest_rates_df.head()"
   ]
  },
  {
   "cell_type": "code",
   "execution_count": null,
   "id": "6d0185af",
   "metadata": {},
   "outputs": [],
   "source": []
  }
 ],
 "metadata": {
  "kernelspec": {
   "display_name": "Python 3",
   "language": "python",
   "name": "python3"
  },
  "language_info": {
   "codemirror_mode": {
    "name": "ipython",
    "version": 3
   },
   "file_extension": ".py",
   "mimetype": "text/x-python",
   "name": "python",
   "nbconvert_exporter": "python",
   "pygments_lexer": "ipython3",
   "version": "3.8.8"
  }
 },
 "nbformat": 4,
 "nbformat_minor": 5
}
